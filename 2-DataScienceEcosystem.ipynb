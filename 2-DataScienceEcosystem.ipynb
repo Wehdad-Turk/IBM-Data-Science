{
 "cells": [
  {
   "cell_type": "markdown",
   "id": "9afc176e",
   "metadata": {},
   "source": [
    "# Data Science Tools and Ecosystem"
   ]
  },
  {
   "cell_type": "markdown",
   "id": "ca4a6416",
   "metadata": {},
   "source": [
    "In this notebook, Data Science Tools and Ecosystem are summarized."
   ]
  },
  {
   "cell_type": "markdown",
   "id": "47c7bff8",
   "metadata": {},
   "source": [
    "Some of the popular languages that Data Scientists use are:\n",
    "1. Python\n",
    "2. R\n",
    "3. Scala\n",
    "4. Julia\n",
    "5. Java\n",
    "5. C++"
   ]
  },
  {
   "cell_type": "markdown",
   "id": "f7aca390",
   "metadata": {},
   "source": [
    "Some of the commonly used libraries used by Data Scientists include:\n",
    "1. Numpy\n",
    "2. Pandas\n",
    "3. Scikit-learn\n",
    "4. TensorFlow\n",
    "5. Keras\n",
    "6. Dplyr\n",
    "7. Caret\n",
    "8. etc."
   ]
  },
  {
   "cell_type": "markdown",
   "id": "5f469501",
   "metadata": {},
   "source": [
    "|Data Science Tools|\n",
    "-----------------------------\n",
    "| Apache PredictionIO|\n",
    "| Kubwernets |\n",
    "| Redhat OpenShift |\n",
    "| TensorFlow service |"
   ]
  },
  {
   "cell_type": "markdown",
   "id": "9031e33a",
   "metadata": {},
   "source": [
    "Below are a few examples of evaluating arithmetic expressions in Python"
   ]
  },
  {
   "cell_type": "code",
   "execution_count": 2,
   "id": "0c6919f7",
   "metadata": {},
   "outputs": [
    {
     "data": {
      "text/plain": [
       "17"
      ]
     },
     "execution_count": 2,
     "metadata": {},
     "output_type": "execute_result"
    }
   ],
   "source": [
    "# This a simple arithmetic expression to mutiply then add integers\n",
    "(3*4)+5"
   ]
  },
  {
   "cell_type": "code",
   "execution_count": 3,
   "id": "3ba9b436",
   "metadata": {},
   "outputs": [
    {
     "data": {
      "text/plain": [
       "3.3333333333333335"
      ]
     },
     "execution_count": 3,
     "metadata": {},
     "output_type": "execute_result"
    }
   ],
   "source": [
    "# This will convert 200 minutes to hours by diving by 60\n",
    "hours=200/60\n",
    "hours"
   ]
  },
  {
   "cell_type": "markdown",
   "id": "4261b03f",
   "metadata": {},
   "source": [
    "**Objectives:**\n",
    "- Data Science languages\n",
    "- Data Science tools\n",
    "- Data Science popular libraries\n",
    "- Work with Markdown\n",
    "- Introduction to Jupyter Notebook"
   ]
  },
  {
   "cell_type": "markdown",
   "id": "0eb6f181",
   "metadata": {},
   "source": [
    "## Author\n",
    "Wehdad Alam"
   ]
  }
 ],
 "metadata": {
  "kernelspec": {
   "display_name": "Python 3 (ipykernel)",
   "language": "python",
   "name": "python3"
  },
  "language_info": {
   "codemirror_mode": {
    "name": "ipython",
    "version": 3
   },
   "file_extension": ".py",
   "mimetype": "text/x-python",
   "name": "python",
   "nbconvert_exporter": "python",
   "pygments_lexer": "ipython3",
   "version": "3.10.9"
  }
 },
 "nbformat": 4,
 "nbformat_minor": 5
}
